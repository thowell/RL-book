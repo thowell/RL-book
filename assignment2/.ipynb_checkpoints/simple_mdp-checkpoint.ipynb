{
 "cells": [
  {
   "cell_type": "code",
   "execution_count": 42,
   "metadata": {},
   "outputs": [],
   "source": [
    "from dataclasses import dataclass\n",
    "from typing import Mapping, Dict\n",
    "from rl.distribution import Categorical\n",
    "from rl.markov_process import Transition, FiniteMarkovProcess\n",
    "from scipy.stats import poisson\n",
    "import numpy as np\n",
    "import itertools"
   ]
  },
  {
   "cell_type": "code",
   "execution_count": 43,
   "metadata": {},
   "outputs": [],
   "source": [
    "@dataclass(frozen=True)\n",
    "class SALState:\n",
    "    position: int\n",
    "\n",
    "    def SAL_position(self) -> int:\n",
    "        return self.position"
   ]
  },
  {
   "cell_type": "code",
   "execution_count": 52,
   "metadata": {},
   "outputs": [],
   "source": [
    "class SimpleSALMPFinite(FiniteMarkovProcess[SALState]):\n",
    "\n",
    "    def __init__(\n",
    "        self,\n",
    "        initial_position: int\n",
    "    ):\n",
    "        self.initial_position = initial_position\n",
    "        super().__init__(self.get_transition_map())\n",
    "\n",
    "    def get_transition_map(self) -> Transition[SALState]:\n",
    "        d: Dict[SALState, Categorical[SALState]] = {}\n",
    "      \n",
    "        # state 1 transitions\n",
    "        state = SALState(1)\n",
    "        state_probs_map: Mapping[SALState, float] = {\n",
    "            SALState(2): 0.5,\n",
    "            SALState(3): 0.5    \n",
    "        }\n",
    "        d[state] = Categorical(state_probs_map)\n",
    "\n",
    "        # state 2 transitions\n",
    "        state = SALState(2)\n",
    "        state_probs_map: Mapping[SALState, float] = {\n",
    "            SALState(1): 0.5,\n",
    "            SALState(3): 0.5    \n",
    "        }\n",
    "        d[state] = Categorical(state_probs_map)\n",
    "        \n",
    "        # state 3 transitions\n",
    "        state = SALState(3)\n",
    "        state_probs_map: Mapping[SALState, float] = {\n",
    "            SALState(3): 1.0   \n",
    "        }\n",
    "        d[state] = Categorical(state_probs_map)\n",
    "            \n",
    "        return d\n",
    "    \n",
    "    def next_state(self, state):\n",
    "        return self.get_transition_map()[state].sample()"
   ]
  },
  {
   "cell_type": "code",
   "execution_count": 53,
   "metadata": {},
   "outputs": [],
   "source": [
    "def simulation(process, start_state):\n",
    "    state = start_state\n",
    "    while True:\n",
    "        yield state\n",
    "        state = process.next_state(state)"
   ]
  },
  {
   "cell_type": "code",
   "execution_count": 54,
   "metadata": {},
   "outputs": [],
   "source": [
    "def traces(time_steps: int, num_traces: int) -> np.ndarray:\n",
    "    # instantiate MDP\n",
    "    process = SimpleSALMPFinite(initial_position = 1)\n",
    "    \n",
    "    # instantiate initial state\n",
    "    start_state = SALState(process.initial_position)\n",
    "    \n",
    "    \n",
    "    return np.vstack([\n",
    "        np.fromiter((s.position for s in itertools.islice(\n",
    "            simulation(process, start_state),\n",
    "            time_steps + 1\n",
    "        )), float) for _ in range(num_traces)])\n"
   ]
  },
  {
   "cell_type": "code",
   "execution_count": 55,
   "metadata": {},
   "outputs": [],
   "source": [
    "initial_position = 1"
   ]
  },
  {
   "cell_type": "code",
   "execution_count": 56,
   "metadata": {},
   "outputs": [],
   "source": [
    "si_mp = SimpleSALMPFinite(\n",
    "    initial_position = initial_position\n",
    ")"
   ]
  },
  {
   "cell_type": "code",
   "execution_count": 57,
   "metadata": {},
   "outputs": [
    {
     "name": "stdout",
     "output_type": "stream",
     "text": [
      "Transition Map\n",
      "--------------\n",
      "From State SALState(position=1):\n",
      "  To State SALState(position=2) with Probability 0.500\n",
      "  To State SALState(position=3) with Probability 0.500\n",
      "From State SALState(position=2):\n",
      "  To State SALState(position=1) with Probability 0.500\n",
      "  To State SALState(position=3) with Probability 0.500\n",
      "From State SALState(position=3):\n",
      "  To State SALState(position=3) with Probability 1.000\n",
      "\n"
     ]
    }
   ],
   "source": [
    "print(\"Transition Map\")\n",
    "print(\"--------------\")\n",
    "print(si_mp)"
   ]
  },
  {
   "cell_type": "code",
   "execution_count": 58,
   "metadata": {},
   "outputs": [
    {
     "name": "stdout",
     "output_type": "stream",
     "text": [
      "Stationary Distribution\n",
      "-----------------------\n",
      "{SALState(position=3): 1.0,\n",
      " SALState(position=2): 0.0,\n",
      " SALState(position=1): 0.0}\n"
     ]
    }
   ],
   "source": [
    "print(\"Stationary Distribution\")\n",
    "print(\"-----------------------\")\n",
    "si_mp.display_stationary_distribution()"
   ]
  },
  {
   "cell_type": "code",
   "execution_count": 60,
   "metadata": {},
   "outputs": [
    {
     "name": "stdout",
     "output_type": "stream",
     "text": [
      "Run traces\n",
      "[[1. 2. 3. 3. 3. 3.]\n",
      " [1. 2. 3. 3. 3. 3.]\n",
      " [1. 3. 3. 3. 3. 3.]\n",
      " [1. 2. 1. 3. 3. 3.]\n",
      " [1. 2. 3. 3. 3. 3.]]\n"
     ]
    }
   ],
   "source": [
    "print(\"Run traces\")\n",
    "T = 5\n",
    "num_traces = 5\n",
    "\n",
    "tr = traces(T, num_traces)\n",
    "\n",
    "print(tr)"
   ]
  },
  {
   "cell_type": "code",
   "execution_count": null,
   "metadata": {},
   "outputs": [],
   "source": []
  }
 ],
 "metadata": {
  "kernelspec": {
   "display_name": "Python 3",
   "language": "python",
   "name": "python3"
  },
  "language_info": {
   "codemirror_mode": {
    "name": "ipython",
    "version": 3
   },
   "file_extension": ".py",
   "mimetype": "text/x-python",
   "name": "python",
   "nbconvert_exporter": "python",
   "pygments_lexer": "ipython3",
   "version": "3.7.6"
  }
 },
 "nbformat": 4,
 "nbformat_minor": 4
}
